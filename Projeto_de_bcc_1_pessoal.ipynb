{
  "nbformat": 4,
  "nbformat_minor": 0,
  "metadata": {
    "colab": {
      "name": "Projeto de bcc 1-pessoal",
      "provenance": [],
      "collapsed_sections": [],
      "authorship_tag": "ABX9TyMIYOVTg9Um/sHlmUiYCo/T",
      "include_colab_link": true
    },
    "kernelspec": {
      "name": "python3",
      "display_name": "Python 3"
    },
    "language_info": {
      "name": "python"
    }
  },
  "cells": [
    {
      "cell_type": "markdown",
      "metadata": {
        "id": "view-in-github",
        "colab_type": "text"
      },
      "source": [
        "<a href=\"https://colab.research.google.com/github/Kelly-sgithub/UFABC_2021_PYTHON/blob/main/Projeto_de_bcc_1_pessoal.ipynb\" target=\"_parent\"><img src=\"https://colab.research.google.com/assets/colab-badge.svg\" alt=\"Open In Colab\"/></a>"
      ]
    },
    {
      "cell_type": "code",
      "metadata": {
        "id": "yxbaRkPTDDiC"
      },
      "source": [
        "#Importando bibliotecas\n",
        "import pandas as pd\n",
        "import seaborn as sns \n",
        "import matplotlib.pyplot as plt\n",
        "%matplotlib inline\n",
        "import numpy as np"
      ],
      "execution_count": 57,
      "outputs": []
    },
    {
      "cell_type": "code",
      "metadata": {
        "colab": {
          "base_uri": "https://localhost:8080/",
          "height": 359
        },
        "id": "qLHSSn0RDG3Q",
        "outputId": "90bc0c60-164d-477e-8767-33738981bf70"
      },
      "source": [
        "#Definindo viável df e lendo a tabela\n",
        "df = pd.read_csv(\"https://drive.google.com/u/3/uc?id=1lKO4xdH0koT3zjw6vB_XhWqbiF7JzW6H&export=download\", sep = \";\")\n",
        "df.head(10)"
      ],
      "execution_count": 59,
      "outputs": [
        {
          "output_type": "execute_result",
          "data": {
            "text/html": [
              "<div>\n",
              "<style scoped>\n",
              "    .dataframe tbody tr th:only-of-type {\n",
              "        vertical-align: middle;\n",
              "    }\n",
              "\n",
              "    .dataframe tbody tr th {\n",
              "        vertical-align: top;\n",
              "    }\n",
              "\n",
              "    .dataframe thead th {\n",
              "        text-align: right;\n",
              "    }\n",
              "</style>\n",
              "<table border=\"1\" class=\"dataframe\">\n",
              "  <thead>\n",
              "    <tr style=\"text-align: right;\">\n",
              "      <th></th>\n",
              "      <th>PACIENTE</th>\n",
              "      <th>SEXO</th>\n",
              "      <th>IDADE</th>\n",
              "      <th>MUNICIPIO_RESIDENCIA</th>\n",
              "      <th>DATA_OBITO</th>\n",
              "      <th>COMORBIDADE</th>\n",
              "    </tr>\n",
              "  </thead>\n",
              "  <tbody>\n",
              "    <tr>\n",
              "      <th>0</th>\n",
              "      <td>1</td>\n",
              "      <td>M</td>\n",
              "      <td>79</td>\n",
              "      <td>Patos de Minas</td>\n",
              "      <td>28/03/2020</td>\n",
              "      <td>SIM</td>\n",
              "    </tr>\n",
              "    <tr>\n",
              "      <th>1</th>\n",
              "      <td>2</td>\n",
              "      <td>F</td>\n",
              "      <td>82</td>\n",
              "      <td>Belo Horizonte</td>\n",
              "      <td>29/03/2020</td>\n",
              "      <td>SIM</td>\n",
              "    </tr>\n",
              "    <tr>\n",
              "      <th>2</th>\n",
              "      <td>3</td>\n",
              "      <td>M</td>\n",
              "      <td>66</td>\n",
              "      <td>Belo Horizonte</td>\n",
              "      <td>30/03/2020</td>\n",
              "      <td>SIM</td>\n",
              "    </tr>\n",
              "    <tr>\n",
              "      <th>3</th>\n",
              "      <td>4</td>\n",
              "      <td>M</td>\n",
              "      <td>44</td>\n",
              "      <td>Mariana</td>\n",
              "      <td>30/03/2020</td>\n",
              "      <td>NÃO</td>\n",
              "    </tr>\n",
              "    <tr>\n",
              "      <th>4</th>\n",
              "      <td>5</td>\n",
              "      <td>M</td>\n",
              "      <td>80</td>\n",
              "      <td>Uberlândia</td>\n",
              "      <td>30/03/2020</td>\n",
              "      <td>SIM</td>\n",
              "    </tr>\n",
              "    <tr>\n",
              "      <th>5</th>\n",
              "      <td>6</td>\n",
              "      <td>M</td>\n",
              "      <td>72</td>\n",
              "      <td>Ouro Fino</td>\n",
              "      <td>31/03/2020</td>\n",
              "      <td>NÃO</td>\n",
              "    </tr>\n",
              "    <tr>\n",
              "      <th>6</th>\n",
              "      <td>7</td>\n",
              "      <td>F</td>\n",
              "      <td>76</td>\n",
              "      <td>Belo Horizonte</td>\n",
              "      <td>01/04/2020</td>\n",
              "      <td>NÃO</td>\n",
              "    </tr>\n",
              "    <tr>\n",
              "      <th>7</th>\n",
              "      <td>8</td>\n",
              "      <td>M</td>\n",
              "      <td>69</td>\n",
              "      <td>Montes Claros</td>\n",
              "      <td>01/04/2020</td>\n",
              "      <td>NÃO</td>\n",
              "    </tr>\n",
              "    <tr>\n",
              "      <th>8</th>\n",
              "      <td>9</td>\n",
              "      <td>F</td>\n",
              "      <td>61</td>\n",
              "      <td>Uberlândia</td>\n",
              "      <td>02/04/2020</td>\n",
              "      <td>SIM</td>\n",
              "    </tr>\n",
              "    <tr>\n",
              "      <th>9</th>\n",
              "      <td>10</td>\n",
              "      <td>F</td>\n",
              "      <td>92</td>\n",
              "      <td>Belo Horizonte</td>\n",
              "      <td>02/04/2020</td>\n",
              "      <td>SIM</td>\n",
              "    </tr>\n",
              "  </tbody>\n",
              "</table>\n",
              "</div>"
            ],
            "text/plain": [
              "   PACIENTE SEXO  IDADE MUNICIPIO_RESIDENCIA  DATA_OBITO COMORBIDADE\n",
              "0         1    M     79       Patos de Minas  28/03/2020         SIM\n",
              "1         2    F     82       Belo Horizonte  29/03/2020         SIM\n",
              "2         3    M     66       Belo Horizonte  30/03/2020         SIM\n",
              "3         4    M     44              Mariana  30/03/2020         NÃO\n",
              "4         5    M     80           Uberlândia  30/03/2020         SIM\n",
              "5         6    M     72            Ouro Fino  31/03/2020         NÃO\n",
              "6         7    F     76       Belo Horizonte  01/04/2020         NÃO\n",
              "7         8    M     69        Montes Claros  01/04/2020         NÃO\n",
              "8         9    F     61           Uberlândia  02/04/2020         SIM\n",
              "9        10    F     92       Belo Horizonte  02/04/2020         SIM"
            ]
          },
          "metadata": {},
          "execution_count": 59
        }
      ]
    },
    {
      "cell_type": "code",
      "metadata": {
        "colab": {
          "base_uri": "https://localhost:8080/",
          "height": 148
        },
        "id": "Zk4bpZBvFnxj",
        "outputId": "e8102265-f16f-4892-ca19-b59dbcbaf281"
      },
      "source": [
        "#Analisando a média, moda e mediana da coluna \"Idade\"\n",
        "print(\"Media:\", \"%.2f\" % df[\"IDADE\"].mean())\n",
        "print(\"Mediana:\", df[\"IDADE\"].median())\n",
        "print(\"Paciente mais velho:\", df[\"IDADE\"].max())\n",
        "print(\"MODA:\")\n",
        "df[[\"IDADE\"]].mode()\n",
        "\n"
      ],
      "execution_count": 60,
      "outputs": [
        {
          "output_type": "stream",
          "name": "stdout",
          "text": [
            "Media: 69.86\n",
            "Mediana: 72.0\n",
            "Paciente mais velho: 107\n",
            "MODA:\n"
          ]
        },
        {
          "output_type": "execute_result",
          "data": {
            "text/html": [
              "<div>\n",
              "<style scoped>\n",
              "    .dataframe tbody tr th:only-of-type {\n",
              "        vertical-align: middle;\n",
              "    }\n",
              "\n",
              "    .dataframe tbody tr th {\n",
              "        vertical-align: top;\n",
              "    }\n",
              "\n",
              "    .dataframe thead th {\n",
              "        text-align: right;\n",
              "    }\n",
              "</style>\n",
              "<table border=\"1\" class=\"dataframe\">\n",
              "  <thead>\n",
              "    <tr style=\"text-align: right;\">\n",
              "      <th></th>\n",
              "      <th>IDADE</th>\n",
              "    </tr>\n",
              "  </thead>\n",
              "  <tbody>\n",
              "    <tr>\n",
              "      <th>0</th>\n",
              "      <td>74</td>\n",
              "    </tr>\n",
              "  </tbody>\n",
              "</table>\n",
              "</div>"
            ],
            "text/plain": [
              "   IDADE\n",
              "0     74"
            ]
          },
          "metadata": {},
          "execution_count": 60
        }
      ]
    },
    {
      "cell_type": "code",
      "metadata": {
        "colab": {
          "base_uri": "https://localhost:8080/",
          "height": 80
        },
        "id": "TzpjPaSmIw3T",
        "outputId": "4bf9a403-798e-4f26-db71-da3cb2cf7d38"
      },
      "source": [
        "#Sexo mais atingido\n",
        "df[[\"SEXO\"]].mode()"
      ],
      "execution_count": 61,
      "outputs": [
        {
          "output_type": "execute_result",
          "data": {
            "text/html": [
              "<div>\n",
              "<style scoped>\n",
              "    .dataframe tbody tr th:only-of-type {\n",
              "        vertical-align: middle;\n",
              "    }\n",
              "\n",
              "    .dataframe tbody tr th {\n",
              "        vertical-align: top;\n",
              "    }\n",
              "\n",
              "    .dataframe thead th {\n",
              "        text-align: right;\n",
              "    }\n",
              "</style>\n",
              "<table border=\"1\" class=\"dataframe\">\n",
              "  <thead>\n",
              "    <tr style=\"text-align: right;\">\n",
              "      <th></th>\n",
              "      <th>SEXO</th>\n",
              "    </tr>\n",
              "  </thead>\n",
              "  <tbody>\n",
              "    <tr>\n",
              "      <th>0</th>\n",
              "      <td>M</td>\n",
              "    </tr>\n",
              "  </tbody>\n",
              "</table>\n",
              "</div>"
            ],
            "text/plain": [
              "  SEXO\n",
              "0    M"
            ]
          },
          "metadata": {},
          "execution_count": 61
        }
      ]
    },
    {
      "cell_type": "code",
      "metadata": {
        "colab": {
          "base_uri": "https://localhost:8080/",
          "height": 80
        },
        "id": "Fvn4Xeo0JGrY",
        "outputId": "cd4b8d12-8a6d-49ac-bbca-66f19d4678ad"
      },
      "source": [
        "#Município com mais mortes\n",
        "df[[\"MUNICIPIO_RESIDENCIA\"]].mode()"
      ],
      "execution_count": 62,
      "outputs": [
        {
          "output_type": "execute_result",
          "data": {
            "text/html": [
              "<div>\n",
              "<style scoped>\n",
              "    .dataframe tbody tr th:only-of-type {\n",
              "        vertical-align: middle;\n",
              "    }\n",
              "\n",
              "    .dataframe tbody tr th {\n",
              "        vertical-align: top;\n",
              "    }\n",
              "\n",
              "    .dataframe thead th {\n",
              "        text-align: right;\n",
              "    }\n",
              "</style>\n",
              "<table border=\"1\" class=\"dataframe\">\n",
              "  <thead>\n",
              "    <tr style=\"text-align: right;\">\n",
              "      <th></th>\n",
              "      <th>MUNICIPIO_RESIDENCIA</th>\n",
              "    </tr>\n",
              "  </thead>\n",
              "  <tbody>\n",
              "    <tr>\n",
              "      <th>0</th>\n",
              "      <td>Belo Horizonte</td>\n",
              "    </tr>\n",
              "  </tbody>\n",
              "</table>\n",
              "</div>"
            ],
            "text/plain": [
              "  MUNICIPIO_RESIDENCIA\n",
              "0       Belo Horizonte"
            ]
          },
          "metadata": {},
          "execution_count": 62
        }
      ]
    },
    {
      "cell_type": "code",
      "metadata": {
        "colab": {
          "base_uri": "https://localhost:8080/",
          "height": 80
        },
        "id": "APDTy1alOMSI",
        "outputId": "2084ad61-5ac1-4772-b033-da1cd3e3f7a3"
      },
      "source": [
        "#Data com mais obitos\n",
        "df[[\"DATA_OBITO\"]].mode()"
      ],
      "execution_count": 63,
      "outputs": [
        {
          "output_type": "execute_result",
          "data": {
            "text/html": [
              "<div>\n",
              "<style scoped>\n",
              "    .dataframe tbody tr th:only-of-type {\n",
              "        vertical-align: middle;\n",
              "    }\n",
              "\n",
              "    .dataframe tbody tr th {\n",
              "        vertical-align: top;\n",
              "    }\n",
              "\n",
              "    .dataframe thead th {\n",
              "        text-align: right;\n",
              "    }\n",
              "</style>\n",
              "<table border=\"1\" class=\"dataframe\">\n",
              "  <thead>\n",
              "    <tr style=\"text-align: right;\">\n",
              "      <th></th>\n",
              "      <th>DATA_OBITO</th>\n",
              "    </tr>\n",
              "  </thead>\n",
              "  <tbody>\n",
              "    <tr>\n",
              "      <th>0</th>\n",
              "      <td>10/07/2020</td>\n",
              "    </tr>\n",
              "  </tbody>\n",
              "</table>\n",
              "</div>"
            ],
            "text/plain": [
              "   DATA_OBITO\n",
              "0  10/07/2020"
            ]
          },
          "metadata": {},
          "execution_count": 63
        }
      ]
    },
    {
      "cell_type": "code",
      "metadata": {
        "id": "3nT8CrbYIVdO",
        "colab": {
          "base_uri": "https://localhost:8080/"
        },
        "outputId": "cf30a8e5-1ccc-45e4-dfa4-600aea43f38d"
      },
      "source": [
        "#Pacientes homens e com comorbidade\n",
        "sm = df.loc[df[\"SEXO\"]==\"M\"]\n",
        "sm1 = sm.loc[sm[\"COMORBIDADE\"]==\"SIM\"]\n",
        "print(\"Pacientes homemns e com comorbidades:\", sm1.shape[0])"
      ],
      "execution_count": 64,
      "outputs": [
        {
          "output_type": "stream",
          "name": "stdout",
          "text": [
            "Pacientes homemns e com comorbidades: 1357\n"
          ]
        }
      ]
    },
    {
      "cell_type": "code",
      "metadata": {
        "colab": {
          "base_uri": "https://localhost:8080/"
        },
        "id": "_3i3EFVLRzey",
        "outputId": "10f4f774-9114-4fad-dd41-f5d135ae5981"
      },
      "source": [
        "#Pacientes mulheres e com comorbidades\n",
        "sm = df.loc[df[\"SEXO\"]==\"F\"]\n",
        "sm2 = sm.loc[sm[\"COMORBIDADE\"]==\"SIM\"]\n",
        "print(\"Pacientes mulheres e com comorbidades\", sm2.shape[0])"
      ],
      "execution_count": 65,
      "outputs": [
        {
          "output_type": "stream",
          "name": "stdout",
          "text": [
            "Pacientes mulheres e com comorbidades 1045\n"
          ]
        }
      ]
    },
    {
      "cell_type": "code",
      "metadata": {
        "id": "Gf7oH40KXH2w",
        "colab": {
          "base_uri": "https://localhost:8080/"
        },
        "outputId": "44443831-b62a-4db0-b94d-57fa11372ecd"
      },
      "source": [
        "#Pacientes sem comorbidade\n",
        "sm3 = df.loc[df[\"COMORBIDADE\"]==\"NÃO\"]\n",
        "print(\"Pacientes sem comorbidade\", sm3.shape[0])"
      ],
      "execution_count": 66,
      "outputs": [
        {
          "output_type": "stream",
          "name": "stdout",
          "text": [
            "Pacientes sem comorbidade 216\n"
          ]
        }
      ]
    },
    {
      "cell_type": "code",
      "metadata": {
        "id": "Ro4zKYyyqRIc",
        "colab": {
          "base_uri": "https://localhost:8080/"
        },
        "outputId": "8b4cd7cd-668a-4045-bf5e-ab31715e68cc"
      },
      "source": [
        "#Analise de qual grupo foi mais atingido\n",
        "g1 = sm1.shape[0]\n",
        "g2 = sm2.shape[0]\n",
        "g3 = sm3.shape[0]\n",
        "if g1>g2 and g1>g3:\n",
        "  print(\"O grupo mais atingido foi dos homens com comorbidades\")\n",
        "elif g2>g1 and g2>g3:\n",
        "  print(\"O grupo mais atingido foi das mulheres com comorbidaes\")\n",
        "else:\n",
        "  print(\"As pessoas sem comorbidades foram as mais atingidas\")"
      ],
      "execution_count": 69,
      "outputs": [
        {
          "output_type": "stream",
          "name": "stdout",
          "text": [
            "O grupo mais atingido foi dos homens com comorbidades\n"
          ]
        }
      ]
    },
    {
      "cell_type": "code",
      "metadata": {
        "colab": {
          "base_uri": "https://localhost:8080/"
        },
        "id": "3mX938p9ucNO",
        "outputId": "863cf1f2-cdb6-450b-a0f6-23028f1c9cfd"
      },
      "source": [
        "#Analise de qual grupo foi menos atingido\n",
        "g1 = sm1.shape[0]\n",
        "g2 = sm2.shape[0]\n",
        "g3 = sm3.shape[0]\n",
        "if g1<g2 and g1<g3:\n",
        "  print(\"O grupo menos atingido foi dos homens com comorbidades\")\n",
        "elif g2<g1 and g2<g3:\n",
        "  print(\"O grupo menos atingido foi das mulheres com comorbidaes\")\n",
        "else:\n",
        "  print(\"As pessoas sem comorbidades foram as menos atingidas\")"
      ],
      "execution_count": 71,
      "outputs": [
        {
          "output_type": "stream",
          "name": "stdout",
          "text": [
            "As pessoas sem comorbidades foram as menos atingidas\n"
          ]
        }
      ]
    },
    {
      "cell_type": "code",
      "metadata": {
        "id": "WdxIy4DK1fRM"
      },
      "source": [
        ""
      ],
      "execution_count": 68,
      "outputs": []
    }
  ]
}