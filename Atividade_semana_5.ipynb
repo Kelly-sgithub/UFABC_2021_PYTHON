{
  "nbformat": 4,
  "nbformat_minor": 0,
  "metadata": {
    "colab": {
      "name": "Atividade semana 5",
      "provenance": [],
      "collapsed_sections": [],
      "authorship_tag": "ABX9TyMgqF++FhpvfGdyW78CREaH",
      "include_colab_link": true
    },
    "kernelspec": {
      "name": "python3",
      "display_name": "Python 3"
    },
    "language_info": {
      "name": "python"
    }
  },
  "cells": [
    {
      "cell_type": "markdown",
      "metadata": {
        "id": "view-in-github",
        "colab_type": "text"
      },
      "source": [
        "<a href=\"https://colab.research.google.com/github/Kelly-sgithub/UFABC_2021_PYTHON/blob/main/Atividade_semana_5.ipynb\" target=\"_parent\"><img src=\"https://colab.research.google.com/assets/colab-badge.svg\" alt=\"Open In Colab\"/></a>"
      ]
    },
    {
      "cell_type": "code",
      "metadata": {
        "colab": {
          "base_uri": "https://localhost:8080/"
        },
        "id": "WSMVQ5NFlqzk",
        "outputId": "45be356e-a643-4cdd-fce1-ab44fa09de78"
      },
      "source": [
        "#Inserir um valor inteiro n e analisar se ele é par ou impar.\n",
        "n = int(input(\"Escolha um número inteiro:\"))\n",
        "if n%2==0:\n",
        "  print(n,\"é par\")\n",
        "else:\n",
        "  print(n, \"é impar\")"
      ],
      "execution_count": 1,
      "outputs": [
        {
          "output_type": "stream",
          "name": "stdout",
          "text": [
            "Escolha um número inteiro:40\n",
            "40 é par\n"
          ]
        }
      ]
    },
    {
      "cell_type": "code",
      "metadata": {
        "id": "IzprVOrUmx0w",
        "colab": {
          "base_uri": "https://localhost:8080/"
        },
        "outputId": "2168d452-76ab-48bc-e833-cf8c6ba5addb"
      },
      "source": [
        "#Inserir uma letra maiúscula e analisar se ela é vogal ou não\n",
        "v = (\"A\", \"E\", \"I\", \"O\", \"U\")\n",
        "l =(\"B\", \"C\", \"D\", \"F\", \"G\", \"H\", \"J\", \"K\", \"L\", \"M\", \"N\", \"P\", \"Q\", \"R\", \"S\", \"T\", \"V\", \"W\", \"X\", \"Y\", \"Z\")\n",
        "A = input(\"Escolha uma letra maiúscula:\")\n",
        "if A in v:\n",
        "  print(\"Vogal\")\n",
        "elif A in l:\n",
        "  print(\"Não vogal\")\n",
        "elif A != v and l:\n",
        "  print(\"Escolha uma letra maiúscula\")"
      ],
      "execution_count": 2,
      "outputs": [
        {
          "output_type": "stream",
          "name": "stdout",
          "text": [
            "Escolha uma letra maiúscula:D\n",
            "Não vogal\n"
          ]
        }
      ]
    },
    {
      "cell_type": "code",
      "metadata": {
        "colab": {
          "base_uri": "https://localhost:8080/"
        },
        "id": "2BqzJdWtqkJO",
        "outputId": "5712a3a6-c30d-4281-a68b-15db87da3eaf"
      },
      "source": [
        "#Leia 4 valores inteiros e analise dentro das condições\n",
        "A = int(input(\"Escolha um número inteiro:\"))\n",
        "B = int(input(\"Escolha um número inteiro:\"))\n",
        "C = int(input(\"Escolha um número inteiro:\"))\n",
        "D = int(input(\"Escolha um número inteiro:\"))\n",
        "if B>C and D>A and C+D>A+B:\n",
        "  print(\"Valores aceitos\")\n",
        "else:\n",
        "  print(\"Valores não aceitos\")"
      ],
      "execution_count": 3,
      "outputs": [
        {
          "output_type": "stream",
          "name": "stdout",
          "text": [
            "Escolha um número inteiro:1\n",
            "Escolha um número inteiro:3\n",
            "Escolha um número inteiro:2\n",
            "Escolha um número inteiro:4\n",
            "Valores aceitos\n"
          ]
        }
      ]
    },
    {
      "cell_type": "code",
      "metadata": {
        "colab": {
          "base_uri": "https://localhost:8080/"
        },
        "id": "aXDL5cOwLaFg",
        "outputId": "4c942d75-b86e-4d19-a10c-6fe5c1b642eb"
      },
      "source": [
        "#Calcule a idade e analise se a pessoa pode votar ou dirigir\n",
        "ano = 2021\n",
        "an = int(input(\"Em qual ano você nasceu?\"))\n",
        "id = ano-an \n",
        "if id>=16:\n",
        "  print(\"Já pode votar\")\n",
        "if id>=18:\n",
        "  print(\"Já pode solicitar a carteira de motorista\")\n"
      ],
      "execution_count": 4,
      "outputs": [
        {
          "output_type": "stream",
          "name": "stdout",
          "text": [
            "Em qual ano você nasceu?2002\n",
            "Já pode votar\n",
            "Já pode solicitar a carteira de motorista\n"
          ]
        }
      ]
    },
    {
      "cell_type": "code",
      "metadata": {
        "colab": {
          "base_uri": "https://localhost:8080/"
        },
        "id": "PQegr3IKNPbT",
        "outputId": "0feb0cd9-d3c4-48d6-f105-ef2d8337fac9"
      },
      "source": [
        "#input para os valores de a,b e c\n",
        "a = int(input(\"Escolha um número a:\"))\n",
        "b = int(input(\"Escolha um número b:\"))\n",
        "c = int(input(\"Escolha um número c:\"))\n",
        "#Calculo do delta\n",
        "delta = b**2-4*a*c \n",
        "#Criando variaveis para a parte superior do x1 e x2\n",
        "fraçaox1 = (-b + delta ** (1 / 2)) / (2 * a)\n",
        "fraçaox2 = (-b - delta ** (1 / 2)) / (2 * a)\n",
        "#Definindo condições\n",
        "if delta ==0:\n",
        "  print(-b/2*a)\n",
        "if delta <0:\n",
        "  print(\"As duas raizes são complexas\")\n",
        "if delta>0:\n",
        "  print(\"X1:\", round(fraçaox1, 2))\n",
        "  print(\"X2\", round(fraçaox2, 2))"
      ],
      "execution_count": 52,
      "outputs": [
        {
          "output_type": "stream",
          "name": "stdout",
          "text": [
            "Escolha um número a:4\n",
            "Escolha um número b:0\n",
            "Escolha um número c:-16\n",
            "X1: 2.0\n",
            "X2 -2.0\n"
          ]
        }
      ]
    },
    {
      "cell_type": "code",
      "metadata": {
        "id": "axQD7jdJV5cp"
      },
      "source": [
        ""
      ],
      "execution_count": null,
      "outputs": []
    },
    {
      "cell_type": "code",
      "metadata": {
        "id": "-wHWQtHwV_Pn"
      },
      "source": [
        ""
      ],
      "execution_count": null,
      "outputs": []
    }
  ]
}