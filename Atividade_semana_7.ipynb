{
  "nbformat": 4,
  "nbformat_minor": 0,
  "metadata": {
    "colab": {
      "name": "Atividade semana 7",
      "provenance": [],
      "collapsed_sections": [],
      "authorship_tag": "ABX9TyNDFbj5Ts04TQdZ3roUfyid",
      "include_colab_link": true
    },
    "kernelspec": {
      "name": "python3",
      "display_name": "Python 3"
    },
    "language_info": {
      "name": "python"
    }
  },
  "cells": [
    {
      "cell_type": "markdown",
      "metadata": {
        "id": "view-in-github",
        "colab_type": "text"
      },
      "source": [
        "<a href=\"https://colab.research.google.com/github/Kelly-sgithub/UFABC_2021_PYTHON/blob/main/Atividade_semana_7.ipynb\" target=\"_parent\"><img src=\"https://colab.research.google.com/assets/colab-badge.svg\" alt=\"Open In Colab\"/></a>"
      ]
    },
    {
      "cell_type": "code",
      "metadata": {
        "colab": {
          "base_uri": "https://localhost:8080/"
        },
        "id": "d2m7VbN_M0Rc",
        "outputId": "f9f4221d-fa43-4d53-c4bd-91d65cb6631e"
      },
      "source": [
        "#Exercício 1\n",
        "senha = 1234\n",
        "tentativas = 1\n",
        "#Definindo while e criando condição para limitaoes de tentativas\n",
        "while tentativas <= 3:\n",
        "  tent = float(input(\"Digite a senha:\"))\n",
        "  if tent == senha:\n",
        "    print(\"Senha correta\")\n",
        "    break\n",
        "#Caso a senha não esteja correta ele avisa o usuario e contabiliza as tentativas até três, onde o programa para\n",
        "  elif tent != senha:\n",
        "    print(\"Senha incorreta,você tem\", 3-tentativas, \"tentativas\")\n",
        "    tentativas = tentativas+1\n",
        "      \n",
        "  "
      ],
      "execution_count": null,
      "outputs": [
        {
          "output_type": "stream",
          "name": "stdout",
          "text": [
            "Digite a senha:20\n",
            "Senha incorreta,você tem 2 tentativas\n",
            "Digite a senha:20\n",
            "Senha incorreta,você tem 1 tentativas\n",
            "Digite a senha:20\n",
            "Senha incorreta,você tem 0 tentativas\n"
          ]
        }
      ]
    },
    {
      "cell_type": "code",
      "metadata": {
        "id": "ubyS2yIeNxg9",
        "colab": {
          "base_uri": "https://localhost:8080/"
        },
        "outputId": "4cf07424-e4f9-4cb3-c186-05bcc9cc465f"
      },
      "source": [
        "#Exercício 2\n",
        "senha = 1234\n",
        "tentativa2 = 3\n",
        "#Definindo while e criando condição e tentativas\n",
        "while tentativa2 <=3:\n",
        "  tent2 = float(input(\"Digite a senha:\"))\n",
        "  if tent2 == senha:\n",
        "    print(\"Senha correta\")\n",
        "    break\n",
        "  else:\n",
        "    print(\"Senha incorreta, tente novamente\")"
      ],
      "execution_count": null,
      "outputs": [
        {
          "output_type": "stream",
          "name": "stdout",
          "text": [
            "Digite a senha:1324\n",
            "Senha incorreta, tente novamente\n",
            "Digite a senha:1243\n",
            "Senha incorreta, tente novamente\n",
            "Digite a senha:1234\n",
            "Senha correta\n"
          ]
        }
      ]
    },
    {
      "cell_type": "code",
      "metadata": {
        "id": "NgW94nBVd6Q7",
        "colab": {
          "base_uri": "https://localhost:8080/"
        },
        "outputId": "08843c4d-cbbb-4376-e55f-ce196767b648"
      },
      "source": [
        "#Exercício 3\n",
        "senha = 1234\n",
        "tentativa3 = 0\n",
        "tent4 = 0\n",
        "tent5 = 0\n",
        "tent6 = 0\n",
        "#Definindo while e criando condição e tentativas\n",
        "while tentativa3 >=0:\n",
        "  tent3 = float(input(\"Digite a senha:\"))\n",
        "  if tent3 == senha:\n",
        "    print(\"Senha correta\")\n",
        "    tent4 = tent4+1\n",
        "#Definindo o que fazer quando o usuario erra a senha\n",
        "  elif tent3 != senha:\n",
        "    print(\"Senha incorreta\")\n",
        "    tent5 = tent5 +1\n",
        "#Definindo o que fazer caso seja digitado zero\n",
        "  if tent3 ==0:\n",
        "#Definindo saidas\n",
        "    print(\"O total de tentativas foi:\", tent4+tent5+tent6)\n",
        "    print(\"O total de tentativas corretas foram:\", tent4)\n",
        "    print(\"O total de tentativas incorretas foram:\",tent5)\n",
        "    break\n"
      ],
      "execution_count": null,
      "outputs": [
        {
          "output_type": "stream",
          "name": "stdout",
          "text": [
            "Digite a senha:1234\n",
            "Senha correta\n",
            "Digite a senha:1234\n",
            "Senha correta\n",
            "Digite a senha:1010\n",
            "Senha incorreta\n",
            "Digite a senha:1010\n",
            "Senha incorreta\n",
            "Digite a senha:0\n",
            "Senha incorreta\n",
            "O total de tentativas foi: 5\n",
            "O total de tentativas corretas foram: 2\n",
            "O total de tentativas incorretas foram: 3\n"
          ]
        }
      ]
    },
    {
      "cell_type": "code",
      "metadata": {
        "id": "vXUpyrl0ljen",
        "colab": {
          "base_uri": "https://localhost:8080/"
        },
        "outputId": "822e422c-e269-4ede-9e31-4729663f7834"
      },
      "source": [
        "#Exercício 4\n",
        "import statistics\n",
        "ls = []\n",
        "for i in [1,2,3]:\n",
        "  ls.append(int(input(\"Digite uma quantidade positiva de números inteiros positivos:\")))\n",
        "  print(ls)\n",
        "media = statistics.mean(ls)\n",
        "print(\"A média da lista é:\", media)"
      ],
      "execution_count": null,
      "outputs": [
        {
          "output_type": "stream",
          "name": "stdout",
          "text": [
            "Digite uma quantidade positiva de números inteiros positivos:20\n",
            "[20]\n",
            "Digite uma quantidade positiva de números inteiros positivos:40\n",
            "[20, 40]\n",
            "Digite uma quantidade positiva de números inteiros positivos:60\n",
            "[20, 40, 60]\n",
            "A média da lista é: 40\n"
          ]
        }
      ]
    },
    {
      "cell_type": "code",
      "metadata": {
        "id": "gGSFuM_C5cfY",
        "colab": {
          "base_uri": "https://localhost:8080/"
        },
        "outputId": "98b5d198-b294-46bd-f950-24e6e534c48c"
      },
      "source": [
        "#Exercício 5\n",
        "user = int(input(\"Digite quantos uruários serão:\"))\n",
        "q = user\n",
        "cont=0\n",
        "#Criando condições para inserir altura e peso dos usuarios\n",
        "while q >= user:\n",
        "  if user > 0:\n",
        "    user1a = float(input(\"Altura do uruário:\"))\n",
        "    user1p = float(input(\"Digite o peso do usuário:\"))\n",
        "#Calculando imc e criando uma variável para o break\n",
        "    IMC = user1p / user1a**2\n",
        "    cont = cont+1\n",
        "    print(\"O IMC do usuario é:\", IMC)\n",
        "#Condições para analise do pelo de acordo com a tabela\n",
        "    if IMC < 18.5:\n",
        "      print(\"Vocẽ esta a baixo do peso ideal\")\n",
        "    elif IMC>= 18.5 and IMC <= 24.9:\n",
        "      print(\"Parabéns, você está no peso ideal\")\n",
        "    elif IMC>= 25 and IMC<= 29.9:\n",
        "      print(\"Você está acima do peso\")\n",
        "    elif IMC>= 30 and IMC<= 34.9:\n",
        "      print(\"Obesidade grau I\")\n",
        "    elif IMC>= 35 and IMC<= 39.9:\n",
        "      print(\"Obesidade grau II\")\n",
        "    elif IMC> 40:\n",
        "      print(\"ObesidadeIII\")\n",
        "#Utilizando o cont para parar o programa\n",
        "    if cont == user:\n",
        "      break"
      ],
      "execution_count": 21,
      "outputs": [
        {
          "output_type": "stream",
          "name": "stdout",
          "text": [
            "Digite quantos uruários serão:1\n",
            "Altura do uruário:1.70\n",
            "Digite o peso do usuário:75\n",
            "O IMC do usuario é: 25.95155709342561\n",
            "Você está acima do peso\n"
          ]
        }
      ]
    }
  ]
}