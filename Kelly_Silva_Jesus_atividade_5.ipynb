{
  "nbformat": 4,
  "nbformat_minor": 0,
  "metadata": {
    "colab": {
      "name": "Kelly Silva Jesus-atividade 5",
      "provenance": [],
      "collapsed_sections": [],
      "authorship_tag": "ABX9TyOUWzaCiha6BfmGi1EQm0KG",
      "include_colab_link": true
    },
    "kernelspec": {
      "name": "python3",
      "display_name": "Python 3"
    },
    "language_info": {
      "name": "python"
    }
  },
  "cells": [
    {
      "cell_type": "markdown",
      "metadata": {
        "id": "view-in-github",
        "colab_type": "text"
      },
      "source": [
        "<a href=\"https://colab.research.google.com/github/Kelly-sgithub/UFABC_2021_PYTHON/blob/main/Kelly_Silva_Jesus_atividade_5.ipynb\" target=\"_parent\"><img src=\"https://colab.research.google.com/assets/colab-badge.svg\" alt=\"Open In Colab\"/></a>"
      ]
    },
    {
      "cell_type": "code",
      "metadata": {
        "colab": {
          "base_uri": "https://localhost:8080/"
        },
        "id": "WSMVQ5NFlqzk",
        "outputId": "45832e0e-b777-4506-cfc6-f4161a896f63"
      },
      "source": [
        "#Inserir um valor inteiro n e analisar se ele é par ou impar.\n",
        "n = int(input(\"Escolha um número inteiro:\"))\n",
        "if n%2==0:\n",
        "  print(n,\"é par\")\n",
        "else:\n",
        "  print(n, \"é impar\")"
      ],
      "execution_count": 73,
      "outputs": [
        {
          "output_type": "stream",
          "name": "stdout",
          "text": [
            "Escolha um número inteiro:25\n",
            "25 é impar\n"
          ]
        }
      ]
    },
    {
      "cell_type": "code",
      "metadata": {
        "id": "IzprVOrUmx0w",
        "colab": {
          "base_uri": "https://localhost:8080/"
        },
        "outputId": "d16ee7ab-81d1-4684-fffd-9c8f4371e338"
      },
      "source": [
        "#Inserir uma letra maiúscula e analisar se ela é vogal ou não\n",
        "v = (\"A\", \"E\", \"I\", \"O\", \"U\")\n",
        "l =(\"B\", \"C\", \"D\", \"F\", \"G\", \"H\", \"J\", \"K\", \"L\", \"M\", \"N\", \"P\", \"Q\", \"R\", \"S\", \"T\", \"V\", \"W\", \"X\", \"Y\", \"Z\")\n",
        "A = input(\"Escolha uma letra maiúscula:\")\n",
        "if A in v:\n",
        "  print(\"Vogal\")\n",
        "elif A in l:\n",
        "  print(\"Não vogal\")\n",
        "elif A != v and l:\n",
        "  print(\"Escolha uma letra maiúscula\")"
      ],
      "execution_count": 74,
      "outputs": [
        {
          "output_type": "stream",
          "name": "stdout",
          "text": [
            "Escolha uma letra maiúscula:U\n",
            "Vogal\n"
          ]
        }
      ]
    },
    {
      "cell_type": "code",
      "metadata": {
        "colab": {
          "base_uri": "https://localhost:8080/"
        },
        "id": "2BqzJdWtqkJO",
        "outputId": "071739c1-94c1-48ca-dd60-c0663dec3751"
      },
      "source": [
        "#Leia 4 valores inteiros e analise dentro das condições\n",
        "A = int(input(\"Escolha um número inteiro:\"))\n",
        "B = int(input(\"Escolha um número inteiro:\"))\n",
        "C = int(input(\"Escolha um número inteiro:\"))\n",
        "D = int(input(\"Escolha um número inteiro:\"))\n",
        "if B>C and D>A and C+D>A+B:\n",
        "  print(\"Valores aceitos\")\n",
        "else:\n",
        "  print(\"Valores não aceitos\")"
      ],
      "execution_count": 75,
      "outputs": [
        {
          "output_type": "stream",
          "name": "stdout",
          "text": [
            "Escolha um número inteiro:1\n",
            "Escolha um número inteiro:3\n",
            "Escolha um número inteiro:2\n",
            "Escolha um número inteiro:4\n",
            "Valores aceitos\n"
          ]
        }
      ]
    },
    {
      "cell_type": "code",
      "metadata": {
        "colab": {
          "base_uri": "https://localhost:8080/"
        },
        "id": "aXDL5cOwLaFg",
        "outputId": "b30efc6e-248f-4684-9eef-4ea12ccbe088"
      },
      "source": [
        "#Calcule a idade e analise se a pessoa pode votar ou dirigir\n",
        "ano = 2021\n",
        "an = int(input(\"Em qual ano você nasceu?\"))\n",
        "id = ano-an \n",
        "if id>=16:\n",
        "  print(\"Já pode votar\")\n",
        "if id>=18:\n",
        "  print(\"Já pode solicitar a carteira de motorista\")\n"
      ],
      "execution_count": 76,
      "outputs": [
        {
          "output_type": "stream",
          "name": "stdout",
          "text": [
            "Em qual ano você nasceu?2001\n",
            "Já pode votar\n",
            "Já pode solicitar a carteira de motorista\n"
          ]
        }
      ]
    },
    {
      "cell_type": "code",
      "metadata": {
        "colab": {
          "base_uri": "https://localhost:8080/"
        },
        "id": "PQegr3IKNPbT",
        "outputId": "77dabef2-edc3-4f91-f612-bb9b9dcad64b"
      },
      "source": [
        "#input para os valores de a,b e c\n",
        "a = int(input(\"Escolha um número a:\"))\n",
        "b = int(input(\"Escolha um número b:\"))\n",
        "c = int(input(\"Escolha um número c:\"))\n",
        "#Calculo do delta\n",
        "delta = b**2-4*a*c \n",
        "#Criando variaveis para a parte superior do x1 e x2\n",
        "fraçaox1 = (-b + delta ** (1 / 2)) / (2 * a)\n",
        "fraçaox2 = (-b - delta ** (1 / 2)) / (2 * a)\n",
        "#Definindo condições\n",
        "if delta ==0:\n",
        "  print(-b/2*a)\n",
        "if delta <0:\n",
        "  print(\"As duas raizes são complexas\")\n",
        "if delta>0:\n",
        "  print(\"X1:\", round(fraçaox1, 2))\n",
        "  print(\"X2\", round(fraçaox2, 2))"
      ],
      "execution_count": 77,
      "outputs": [
        {
          "output_type": "stream",
          "name": "stdout",
          "text": [
            "Escolha um número a:4\n",
            "Escolha um número b:0\n",
            "Escolha um número c:-16\n",
            "X1: 2.0\n",
            "X2 -2.0\n"
          ]
        }
      ]
    },
    {
      "cell_type": "code",
      "metadata": {
        "colab": {
          "base_uri": "https://localhost:8080/"
        },
        "id": "axQD7jdJV5cp",
        "outputId": "150ed530-72e7-4970-d610-4e8688332168"
      },
      "source": [
        "#Calculo de IMC\n",
        "p = float(input(\"Coloque seu peso:\"))\n",
        "alt = float(input(\"Coloque sua altura:\"))\n",
        "IMC = p / alt**2\n",
        "if IMC < 18.5:\n",
        "  print(\"Vocẽ esta a baixo do peso ideal\")\n",
        "elif IMC>= 18.5 and IMC <= 24.9:\n",
        "  print(\"Parabéns, você está no peso ideal\")\n",
        "elif IMC>= 25 and IMC<= 29.9:\n",
        "  print(\"Você está acima do peso\")\n",
        "elif IMC>= 30 and IMC<= 34.9:\n",
        "  print(\"Obesidade grau I\")\n",
        "elif IMC>= 35 and IMC<= 39.9:\n",
        "  print(\"Obesidade grau II\")\n",
        "elif IMC> 40:\n",
        "  print(\"ObesidadeIII\")"
      ],
      "execution_count": 78,
      "outputs": [
        {
          "output_type": "stream",
          "name": "stdout",
          "text": [
            "Coloque seu peso:70\n",
            "Coloque sua altura:1.75\n",
            "Parabéns, você está no peso ideal\n"
          ]
        }
      ]
    },
    {
      "cell_type": "code",
      "metadata": {
        "id": "-wHWQtHwV_Pn"
      },
      "source": [
        ""
      ],
      "execution_count": null,
      "outputs": []
    }
  ]
}